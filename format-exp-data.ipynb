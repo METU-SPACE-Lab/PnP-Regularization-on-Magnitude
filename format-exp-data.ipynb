{
 "cells": [
  {
   "cell_type": "markdown",
   "metadata": {},
   "source": [
    "# INSTRUCTIONS FOR FORMATTING THE EXPERIMENTAL DATA\n",
    "\n",
    "To use our codes with the exoerimental data [1,2] you should first convert the \"Exp_GunData4ImagingFD.mat\" file to torch tensors and reshape them. \n",
    "\n",
    "[1] J. Wang, P. Aubry and A. Yarovoy, \"3-D Short-Range Imaging With Irregular MIMO Arrays Using NUFFT-Based Range Migration Algorithm,\" in IEEE Transactions on Geoscience and Remote Sensing, vol. 58, no. 7, pp. 4730-4742, July 2020, doi: 10.1109/TGRS.2020.2966368.\n",
    "\n",
    "[2] Jianping Wang, January 10, 2020, \"EM data acquired with irregular planar MIMO arrays\", IEEE Dataport, doi: https://dx.doi.org/10.21227/src2-0y50.\n"
   ]
  },
  {
   "cell_type": "markdown",
   "metadata": {},
   "source": [
    "### Step 1: Download the data from [2] (https://dx.doi.org/10.21227/src2-0y50)\n",
    "### Step 2: Run the following MATLAB code:\n"
   ]
  },
  {
   "cell_type": "markdown",
   "metadata": {},
   "source": [
    "    path_to_experimental_data=\"..\\data\\datasets\\experimental\";\n",
    "    load(path_to_experimental_data+\"Exp_GunData4ImagingFD.mat\")\n",
    "    \n",
    "    measurements_RTF=EMData.Values;\n",
    "    T=[MIMOArray.Transmitter.X;MIMOArray.Transmitter.Y;MIMOArray.Transmitter.Z];\n",
    "    R=[MIMOArray.Receiver.X;MIMOArray.Receiver.Y;MIMOArray.Receiver.Z];\n",
    "    F=OperateFreq;\n",
    "    \n",
    "    save(path_to_experimental_data+\"measurements_RTF.mat\",'measurements_RTF')\n",
    "    save(path_to_experimental_data+\"T.mat\",'T')\n",
    "    save(path_to_experimental_data+\"R.mat\",'R')\n",
    "    save(path_to_experimental_data+\"F.mat\",'F')"
   ]
  },
  {
   "cell_type": "markdown",
   "metadata": {},
   "source": [
    "### Step 3: Run the following Python code:"
   ]
  },
  {
   "cell_type": "code",
   "execution_count": 26,
   "metadata": {},
   "outputs": [
    {
     "name": "stdout",
     "output_type": "stream",
     "text": [
      "<class 'numpy.ndarray'>\n",
      "<class 'numpy.ndarray'>\n",
      "<class 'numpy.ndarray'>\n",
      "<class 'numpy.ndarray'>\n",
      "Number of Transmitters:         16\n",
      "Number of Receivers:             9\n",
      "Number of Freqs.:              251\n",
      "Measurement Shape (NCktr):     (1, 1, 251, 16, 9)\n"
     ]
    }
   ],
   "source": [
    "from scipy import io\n",
    "import torch\n",
    "\n",
    "Measurements = io.loadmat('data/datasets/experimental/measurements_RTF.mat')\n",
    "Transmitters = io.loadmat('data/datasets/experimental/T.mat')\n",
    "Receivers = io.loadmat('data/datasets/experimental/R.mat')\n",
    "freqs = io.loadmat('data/datasets/experimental/F.mat')\n",
    "\n",
    "print(type(Measurements['measurements_RTF']))\n",
    "print(type(Transmitters['T']))\n",
    "print(type(Receivers['R']))\n",
    "print(type(freqs['F']))\n",
    "\n",
    "R = torch.tensor(Receivers['R'])\n",
    "T = torch.tensor(Transmitters['T'])\n",
    "F = torch.tensor(freqs['F']).squeeze()\n",
    "MEAS_NCKTR = torch.transpose(torch.tensor(Measurements['measurements_RTF']),dim0=0,dim1=2)[None,None,...]\n",
    "\n",
    "print('{:30} {:3}'.format('Number of Transmitters:',T.shape[1]))\n",
    "print('{:30} {:3}'.format('Number of Receivers:', R.shape[1]))\n",
    "print('{:30} {:3}'.format('Number of Freqs.:',F.shape[0]))\n",
    "print('{:30} {}'.format('Measurement Shape (NCktr):',tuple(MEAS_NCKTR.shape)))\n",
    "\n",
    "tx_positions = torch.zeros_like(T.T)\n",
    "tx_positions[:,0] = T[0,:]\n",
    "tx_positions[:,1] = T[2,:]\n",
    "tx_positions[:,2] = T[1,:]\n",
    "\n",
    "rx_positions = torch.zeros_like(R.T)\n",
    "rx_positions[:,0] = R[0,:]\n",
    "rx_positions[:,1] = R[2,:]\n",
    "rx_positions[:,2] = R[1,:]\n",
    "\n",
    "\n",
    "from src.utils.data import make_dir\n",
    "make_dir('data/datasets/experimental/Yarovoy/')\n",
    "torch.save(MEAS_NCKTR,'data/datasets/experimental/Yarovoy/measurements.pt')\n",
    "torch.save(F,'data/datasets/experimental/Yarovoy/freqs.pt')\n",
    "torch.save(tx_positions,'data/datasets/experimental/Yarovoy/tx_positions.pt')\n",
    "torch.save(rx_positions,'data/datasets/experimental/Yarovoy/rx_positions.pt')\n"
   ]
  },
  {
   "cell_type": "markdown",
   "metadata": {},
   "source": [
    "... and you are done. Please refer to \"main-experimental.ipynb\" for experimental reconstructions.                                           "
   ]
  }
 ],
 "metadata": {
  "kernelspec": {
   "display_name": "TCI",
   "language": "python",
   "name": "python3"
  },
  "language_info": {
   "codemirror_mode": {
    "name": "ipython",
    "version": 3
   },
   "file_extension": ".py",
   "mimetype": "text/x-python",
   "name": "python",
   "nbconvert_exporter": "python",
   "pygments_lexer": "ipython3",
   "version": "3.11.7"
  }
 },
 "nbformat": 4,
 "nbformat_minor": 2
}
